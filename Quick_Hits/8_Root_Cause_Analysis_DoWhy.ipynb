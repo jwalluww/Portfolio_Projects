{
 "cells": [
  {
   "cell_type": "code",
   "execution_count": 1,
   "metadata": {},
   "outputs": [
    {
     "data": {
      "text/plain": [
       "'\\nCausal Inferece on Pricing Strategy & Customer Demand using DoWhy & NetworkX\\n---\\n\\n🔍 **Situation**:\\n- Create a synthetic dataset for a retail pricing problem where we analyze the causal effects of a price change on customer demand\\n- Understand relationship between product price, advertising spend, competitor pricing, and customer demand\\n\\n📌 **Task**:\\n- Create synthetic retail pricing dataset\\n- Design a causal graph based on domain knowledge\\n- Perform causal discovery using DoWhy\\n\\n✨ **Action**: \\n- This methodology was valuable in determining the cause of a revenue drop\\n\\n📈 **Result**:\\n- Run some more tests to determine causality using the DAG\\n\\n✍ **Author**: Justin Wall\\n📅 **Updated**: 03/04/2025\\n'"
      ]
     },
     "execution_count": 1,
     "metadata": {},
     "output_type": "execute_result"
    }
   ],
   "source": [
    "\"\"\"\n",
    "Causal Inferece on Pricing Strategy & Customer Demand using DoWhy & NetworkX\n",
    "---\n",
    "\n",
    "🔍 **Situation**:\n",
    "- Create a synthetic dataset for a retail pricing problem where we analyze the causal effects of a price change on customer demand\n",
    "- Understand relationship between product price, advertising spend, competitor pricing, and customer demand\n",
    "\n",
    "📌 **Task**:\n",
    "- Create synthetic retail pricing dataset\n",
    "- Design a causal graph based on domain knowledge\n",
    "- Perform causal discovery using DoWhy\n",
    "\n",
    "✨ **Action**: \n",
    "- This methodology was valuable in determining the cause of a revenue drop\n",
    "\n",
    "📈 **Result**:\n",
    "- Run some more tests to determine causality using the DAG\n",
    "\n",
    "✍ **Author**: Justin Wall\n",
    "📅 **Updated**: 03/04/2025\n",
    "\"\"\""
   ]
  },
  {
   "cell_type": "code",
   "execution_count": 2,
   "metadata": {},
   "outputs": [
    {
     "data": {
      "text/html": [
       "<div>\n",
       "<style scoped>\n",
       "    .dataframe tbody tr th:only-of-type {\n",
       "        vertical-align: middle;\n",
       "    }\n",
       "\n",
       "    .dataframe tbody tr th {\n",
       "        vertical-align: top;\n",
       "    }\n",
       "\n",
       "    .dataframe thead th {\n",
       "        text-align: right;\n",
       "    }\n",
       "</style>\n",
       "<table border=\"1\" class=\"dataframe\">\n",
       "  <thead>\n",
       "    <tr style=\"text-align: right;\">\n",
       "      <th></th>\n",
       "      <th>price</th>\n",
       "      <th>ad_spend</th>\n",
       "      <th>competitor_price</th>\n",
       "      <th>sales</th>\n",
       "    </tr>\n",
       "  </thead>\n",
       "  <tbody>\n",
       "    <tr>\n",
       "      <th>0</th>\n",
       "      <td>22.366505</td>\n",
       "      <td>2498.160475</td>\n",
       "      <td>17.405317</td>\n",
       "      <td>685.005510</td>\n",
       "    </tr>\n",
       "    <tr>\n",
       "      <th>1</th>\n",
       "      <td>16.610352</td>\n",
       "      <td>4802.857226</td>\n",
       "      <td>31.676038</td>\n",
       "      <td>988.852995</td>\n",
       "    </tr>\n",
       "    <tr>\n",
       "      <th>2</th>\n",
       "      <td>39.141972</td>\n",
       "      <td>3927.975767</td>\n",
       "      <td>44.917833</td>\n",
       "      <td>836.124385</td>\n",
       "    </tr>\n",
       "    <tr>\n",
       "      <th>3</th>\n",
       "      <td>10.463238</td>\n",
       "      <td>3394.633937</td>\n",
       "      <td>39.288995</td>\n",
       "      <td>905.785755</td>\n",
       "    </tr>\n",
       "    <tr>\n",
       "      <th>4</th>\n",
       "      <td>15.623143</td>\n",
       "      <td>1624.074562</td>\n",
       "      <td>42.262446</td>\n",
       "      <td>705.140964</td>\n",
       "    </tr>\n",
       "  </tbody>\n",
       "</table>\n",
       "</div>"
      ],
      "text/plain": [
       "       price     ad_spend  competitor_price       sales\n",
       "0  22.366505  2498.160475         17.405317  685.005510\n",
       "1  16.610352  4802.857226         31.676038  988.852995\n",
       "2  39.141972  3927.975767         44.917833  836.124385\n",
       "3  10.463238  3394.633937         39.288995  905.785755\n",
       "4  15.623143  1624.074562         42.262446  705.140964"
      ]
     },
     "execution_count": 2,
     "metadata": {},
     "output_type": "execute_result"
    }
   ],
   "source": [
    "# ================================= #\n",
    "# Generate Fake Retail Pricing Data #\n",
    "# ================================= #\n",
    "#%%\n",
    "import numpy as np\n",
    "import pandas as pd\n",
    "import networkx as nx\n",
    "import matplotlib.pyplot as plt\n",
    "\n",
    "# Set seed for reproducibility\n",
    "np.random.seed(42)\n",
    "\n",
    "# Number of observations\n",
    "n = 1000  \n",
    "\n",
    "# Generate features\n",
    "ad_spend = np.random.uniform(1000, 5000, n)  # Ad budget\n",
    "competitor_price = np.random.uniform(10, 50, n)  # Competitor pricing\n",
    "price = np.random.uniform(15, 55, n)  # Our product price\n",
    "\n",
    "# Define true causal mechanisms\n",
    "# Competitor price influences our price strategy\n",
    "price = price - 0.3 * competitor_price + np.random.normal(0, 2, n)\n",
    "\n",
    "# Ad spend influences both our price strategy and sales\n",
    "sales = 500 - 5 * price + 0.1 * ad_spend + 3 * competitor_price + np.random.normal(0, 10, n)\n",
    "\n",
    "# Create DataFrame\n",
    "df = pd.DataFrame({\"price\": price, \"ad_spend\": ad_spend, \"competitor_price\": competitor_price, \"sales\": sales})\n",
    "\n",
    "df.head()\n",
    "#%%"
   ]
  },
  {
   "cell_type": "code",
   "execution_count": 3,
   "metadata": {},
   "outputs": [
    {
     "data": {
      "image/png": "[encoded data removed]",
      "text/plain": [
       "<Figure size 600x400 with 1 Axes>"
      ]
     },
     "metadata": {},
     "output_type": "display_data"
    }
   ],
   "source": [
    "# ================================= #\n",
    "# Create Causal Graph               #\n",
    "# ================================= #\n",
    "#%%\n",
    "# Define causal relationships\n",
    "causal_graph = nx.DiGraph()\n",
    "causal_graph.add_edges_from([\n",
    "    (\"ad_spend\", \"sales\"),\n",
    "    (\"competitor_price\", \"price\"),\n",
    "    (\"competitor_price\", \"sales\"),\n",
    "    (\"price\", \"sales\")\n",
    "])\n",
    "# Draw up relationships using domain knowledge\n",
    "\n",
    "# Plot the causal graph\n",
    "plt.figure(figsize=(6, 4))\n",
    "pos = nx.spring_layout(causal_graph, seed=42)\n",
    "nx.draw(causal_graph, pos, with_labels=True, node_color=\"lightblue\", edge_color=\"black\", node_size=3000, font_size=12)\n",
    "plt.title(\"Causal Graph for Pricing & Customer Demand\")\n",
    "plt.show()\n",
    "#%%"
   ]
  },
  {
   "cell_type": "code",
   "execution_count": 4,
   "metadata": {},
   "outputs": [
    {
     "name": "stderr",
     "output_type": "stream",
     "text": [
      "Fitting causal mechanism of node price: 100%|██████████| 4/4 [00:00<00:00, 675.06it/s]  \n"
     ]
    }
   ],
   "source": [
    "# ================================= #\n",
    "# Perform Causal Discovery w/DoWhy  #\n",
    "# ================================= #\n",
    "#%%\n",
    "from dowhy import gcm\n",
    "from dowhy.gcm import InvertibleStructuralCausalModel, fit\n",
    "\n",
    "# Define causal model\n",
    "model = InvertibleStructuralCausalModel(causal_graph)\n",
    "\n",
    "# Assign causal mechanisms (Gaussian Processes for simplicity)\n",
    "gcm.auto.assign_causal_mechanisms(model, df)\n",
    "\n",
    "# Train causal model\n",
    "fit(model, df)\n",
    "#%%"
   ]
  },
  {
   "cell_type": "code",
   "execution_count": 5,
   "metadata": {},
   "outputs": [
    {
     "name": "stderr",
     "output_type": "stream",
     "text": [
      "Evaluating causal mechanisms...: 100%|██████████| 4/4 [00:00<00:00, 4034.92it/s]\n"
     ]
    },
    {
     "ename": "TypeError",
     "evalue": "got an unexpected keyword argument 'squared'",
     "output_type": "error",
     "traceback": [
      "\u001b[1;31m---------------------------------------------------------------------------\u001b[0m",
      "\u001b[1;31m_RemoteTraceback\u001b[0m                          Traceback (most recent call last)",
      "\u001b[1;31m_RemoteTraceback\u001b[0m: \n\"\"\"\nTraceback (most recent call last):\n  File \"c:\\Users\\wallj\\anaconda3\\envs\\pymc_env\\Lib\\site-packages\\joblib\\externals\\loky\\process_executor.py\", line 463, in _process_worker\n    r = call_item()\n        ^^^^^^^^^^^\n  File \"c:\\Users\\wallj\\anaconda3\\envs\\pymc_env\\Lib\\site-packages\\joblib\\externals\\loky\\process_executor.py\", line 291, in __call__\n    return self.fn(*self.args, **self.kwargs)\n           ^^^^^^^^^^^^^^^^^^^^^^^^^^^^^^^^^^\n  File \"c:\\Users\\wallj\\anaconda3\\envs\\pymc_env\\Lib\\site-packages\\joblib\\parallel.py\", line 598, in __call__\n    return [func(*args, **kwargs)\n           ^^^^^^^^^^^^^^^^^^^^^^\n  File \"c:\\Users\\wallj\\anaconda3\\envs\\pymc_env\\Lib\\site-packages\\joblib\\parallel.py\", line 598, in <listcomp>\n    return [func(*args, **kwargs)\n            ^^^^^^^^^^^^^^^^^^^^^\n  File \"c:\\Users\\wallj\\anaconda3\\envs\\pymc_env\\Lib\\site-packages\\dowhy\\gcm\\model_evaluation.py\", line 467, in evaluate_node\n    metric_evaluations[\"NMSE\"].append(nmse(node_data[test_indices], conditional_expectations))\n                                      ^^^^^^^^^^^^^^^^^^^^^^^^^^^^^^^^^^^^^^^^^^^^^^^^^^^^^^^\n  File \"c:\\Users\\wallj\\anaconda3\\envs\\pymc_env\\Lib\\site-packages\\dowhy\\gcm\\model_evaluation.py\", line 683, in nmse\n    return mean_squared_error(y_true, y_pred, squared=squared) / (np.var(y_true) if squared else y_std)\n           ^^^^^^^^^^^^^^^^^^^^^^^^^^^^^^^^^^^^^^^^^^^^^^^^^^^\n  File \"c:\\Users\\wallj\\anaconda3\\envs\\pymc_env\\Lib\\site-packages\\sklearn\\utils\\_param_validation.py\", line 194, in wrapper\n    params = func_sig.bind(*args, **kwargs)\n             ^^^^^^^^^^^^^^^^^^^^^^^^^^^^^^\n  File \"c:\\Users\\wallj\\anaconda3\\envs\\pymc_env\\Lib\\inspect.py\", line 3195, in bind\n    return self._bind(args, kwargs)\n           ^^^^^^^^^^^^^^^^^^^^^^^^\n  File \"c:\\Users\\wallj\\anaconda3\\envs\\pymc_env\\Lib\\inspect.py\", line 3184, in _bind\n    raise TypeError(\nTypeError: got an unexpected keyword argument 'squared'\n\"\"\"",
      "\nThe above exception was the direct cause of the following exception:\n",
      "\u001b[1;31mTypeError\u001b[0m                                 Traceback (most recent call last)",
      "Cell \u001b[1;32mIn[5], line 6\u001b[0m\n\u001b[0;32m      1\u001b[0m \u001b[38;5;66;03m# ================================= #\u001b[39;00m\n\u001b[0;32m      2\u001b[0m \u001b[38;5;66;03m# Evaluate Causal Graph             #\u001b[39;00m\n\u001b[0;32m      3\u001b[0m \u001b[38;5;66;03m# ================================= #\u001b[39;00m\n\u001b[0;32m      4\u001b[0m \u001b[38;5;66;03m#%%\u001b[39;00m\n\u001b[1;32m----> 6\u001b[0m \u001b[43mgcm\u001b[49m\u001b[38;5;241;43m.\u001b[39;49m\u001b[43mevaluate_causal_model\u001b[49m\u001b[43m(\u001b[49m\n\u001b[0;32m      7\u001b[0m \u001b[43m    \u001b[49m\u001b[43mmodel\u001b[49m\u001b[43m,\u001b[49m\n\u001b[0;32m      8\u001b[0m \u001b[43m    \u001b[49m\u001b[43mdf\u001b[49m\u001b[43m,\u001b[49m\n\u001b[0;32m      9\u001b[0m \u001b[43m    \u001b[49m\u001b[43mcompare_mechanism_baselines\u001b[49m\u001b[38;5;241;43m=\u001b[39;49m\u001b[38;5;28;43;01mTrue\u001b[39;49;00m\u001b[43m,\u001b[49m\n\u001b[0;32m     10\u001b[0m \u001b[43m    \u001b[49m\u001b[43mevaluate_invertibility_assumptions\u001b[49m\u001b[38;5;241;43m=\u001b[39;49m\u001b[38;5;28;43;01mTrue\u001b[39;49;00m\u001b[43m,\u001b[49m\n\u001b[0;32m     11\u001b[0m \u001b[43m)\u001b[49m\n\u001b[0;32m     12\u001b[0m \u001b[38;5;66;03m#%%\u001b[39;00m\n\u001b[0;32m     13\u001b[0m \u001b[38;5;66;03m# PNL Assumption for sales and price is (1.0, False, 0.05)\u001b[39;00m\n\u001b[0;32m     14\u001b[0m \u001b[38;5;66;03m# 1.0 → Suggests that a nonlinear causal relationship might be necessary.\u001b[39;00m\n\u001b[1;32m   (...)\u001b[0m\n\u001b[0;32m     26\u001b[0m \u001b[38;5;66;03m# The model is not strongly rejected, meaning your assumed causal directions are likely correct.\u001b[39;00m\n\u001b[0;32m     27\u001b[0m \u001b[38;5;66;03m# Since the significance threshold was 0.2 (a common setting), your DAG passes the test.\u001b[39;00m\n",
      "File \u001b[1;32mc:\\Users\\wallj\\anaconda3\\envs\\pymc_env\\Lib\\site-packages\\dowhy\\gcm\\model_evaluation.py:369\u001b[0m, in \u001b[0;36mevaluate_causal_model\u001b[1;34m(causal_model, data, max_num_samples, evaluate_causal_mechanisms, compare_mechanism_baselines, evaluate_invertibility_assumptions, evaluate_overall_kl_divergence, evaluate_causal_structure, config)\u001b[0m\n\u001b[0;32m    366\u001b[0m     data \u001b[38;5;241m=\u001b[39m data[np\u001b[38;5;241m.\u001b[39mrandom\u001b[38;5;241m.\u001b[39mchoice(data\u001b[38;5;241m.\u001b[39mshape[\u001b[38;5;241m0\u001b[39m], data\u001b[38;5;241m.\u001b[39mshape[\u001b[38;5;241m0\u001b[39m], replace\u001b[38;5;241m=\u001b[39m\u001b[38;5;28;01mFalse\u001b[39;00m)]\n\u001b[0;32m    368\u001b[0m \u001b[38;5;28;01mif\u001b[39;00m evaluate_causal_mechanisms:\n\u001b[1;32m--> 369\u001b[0m     evaluation_result\u001b[38;5;241m.\u001b[39mmechanism_performances \u001b[38;5;241m=\u001b[39m \u001b[43m_evaluate_model_performances\u001b[49m\u001b[43m(\u001b[49m\n\u001b[0;32m    370\u001b[0m \u001b[43m        \u001b[49m\u001b[43mcausal_model\u001b[49m\u001b[43m,\u001b[49m\n\u001b[0;32m    371\u001b[0m \u001b[43m        \u001b[49m\u001b[43mdata\u001b[49m\u001b[43m,\u001b[49m\n\u001b[0;32m    372\u001b[0m \u001b[43m        \u001b[49m\u001b[43mcompare_mechanism_baselines\u001b[49m\u001b[43m,\u001b[49m\n\u001b[0;32m    373\u001b[0m \u001b[43m        \u001b[49m\u001b[43mconfig\u001b[49m\u001b[38;5;241;43m.\u001b[39;49m\u001b[43mbaseline_models_regression\u001b[49m\u001b[43m,\u001b[49m\n\u001b[0;32m    374\u001b[0m \u001b[43m        \u001b[49m\u001b[43mconfig\u001b[49m\u001b[38;5;241;43m.\u001b[39;49m\u001b[43mbaseline_models_classification\u001b[49m\u001b[43m,\u001b[49m\n\u001b[0;32m    375\u001b[0m \u001b[43m        \u001b[49m\u001b[43mconfig\u001b[49m\u001b[38;5;241;43m.\u001b[39;49m\u001b[43mmechanism_evaluation_kfolds\u001b[49m\u001b[43m,\u001b[49m\n\u001b[0;32m    376\u001b[0m \u001b[43m        \u001b[49m\u001b[43mconfig\u001b[49m\u001b[38;5;241;43m.\u001b[39;49m\u001b[43mn_jobs\u001b[49m\u001b[43m,\u001b[49m\n\u001b[0;32m    377\u001b[0m \u001b[43m    \u001b[49m\u001b[43m)\u001b[49m\n\u001b[0;32m    379\u001b[0m \u001b[38;5;28;01mif\u001b[39;00m evaluate_invertibility_assumptions:\n\u001b[0;32m    380\u001b[0m     evaluation_result\u001b[38;5;241m.\u001b[39mpnl_assumptions \u001b[38;5;241m=\u001b[39m _evaluate_invertibility_assumptions(\n\u001b[0;32m    381\u001b[0m         causal_model,\n\u001b[0;32m    382\u001b[0m         data,\n\u001b[1;32m   (...)\u001b[0m\n\u001b[0;32m    386\u001b[0m         config\u001b[38;5;241m.\u001b[39mbootstrap_runs_invertible,\n\u001b[0;32m    387\u001b[0m     )\n",
      "File \u001b[1;32mc:\\Users\\wallj\\anaconda3\\envs\\pymc_env\\Lib\\site-packages\\dowhy\\gcm\\model_evaluation.py:554\u001b[0m, in \u001b[0;36m_evaluate_model_performances\u001b[1;34m(causal_model, data, compare_mechanism_baselines, baseline_models_regression, baseline_models_classification, kfolds, n_jobs)\u001b[0m\n\u001b[0;32m    538\u001b[0m     \u001b[38;5;28;01mreturn\u001b[39;00m MechanismPerformanceResult(\n\u001b[0;32m    539\u001b[0m         node_name\u001b[38;5;241m=\u001b[39mnode_name,\n\u001b[0;32m    540\u001b[0m         is_root\u001b[38;5;241m=\u001b[39mis_root_node(causal_model\u001b[38;5;241m.\u001b[39mgraph, node_name),\n\u001b[1;32m   (...)\u001b[0m\n\u001b[0;32m    550\u001b[0m         best_baseline_performance\u001b[38;5;241m=\u001b[39mbest_baseline_performance,\n\u001b[0;32m    551\u001b[0m     )\n\u001b[0;32m    553\u001b[0m random_seeds \u001b[38;5;241m=\u001b[39m np\u001b[38;5;241m.\u001b[39mrandom\u001b[38;5;241m.\u001b[39mrandint(np\u001b[38;5;241m.\u001b[39miinfo(np\u001b[38;5;241m.\u001b[39mint32)\u001b[38;5;241m.\u001b[39mmax, size\u001b[38;5;241m=\u001b[39m\u001b[38;5;28mlen\u001b[39m(causal_model\u001b[38;5;241m.\u001b[39mgraph\u001b[38;5;241m.\u001b[39mnodes))\n\u001b[1;32m--> 554\u001b[0m all_results \u001b[38;5;241m=\u001b[39m \u001b[43mParallel\u001b[49m\u001b[43m(\u001b[49m\u001b[43mn_jobs\u001b[49m\u001b[38;5;241;43m=\u001b[39;49m\u001b[43mn_jobs\u001b[49m\u001b[43m)\u001b[49m\u001b[43m(\u001b[49m\n\u001b[0;32m    555\u001b[0m \u001b[43m    \u001b[49m\u001b[43mdelayed\u001b[49m\u001b[43m(\u001b[49m\u001b[43mevaluate_node\u001b[49m\u001b[43m)\u001b[49m\u001b[43m(\u001b[49m\u001b[43mnode\u001b[49m\u001b[43m,\u001b[49m\u001b[43m \u001b[49m\u001b[38;5;28;43mint\u001b[39;49m\u001b[43m(\u001b[49m\u001b[43mrandom_seeds\u001b[49m\u001b[43m[\u001b[49m\u001b[43mi\u001b[49m\u001b[43m]\u001b[49m\u001b[43m)\u001b[49m\u001b[43m)\u001b[49m\n\u001b[0;32m    556\u001b[0m \u001b[43m    \u001b[49m\u001b[38;5;28;43;01mfor\u001b[39;49;00m\u001b[43m \u001b[49m\u001b[43mi\u001b[49m\u001b[43m,\u001b[49m\u001b[43m \u001b[49m\u001b[43mnode\u001b[49m\u001b[43m \u001b[49m\u001b[38;5;129;43;01min\u001b[39;49;00m\u001b[43m \u001b[49m\u001b[38;5;28;43menumerate\u001b[39;49m\u001b[43m(\u001b[49m\n\u001b[0;32m    557\u001b[0m \u001b[43m        \u001b[49m\u001b[43mtqdm\u001b[49m\u001b[43m(\u001b[49m\n\u001b[0;32m    558\u001b[0m \u001b[43m            \u001b[49m\u001b[38;5;28;43mlist\u001b[39;49m\u001b[43m(\u001b[49m\u001b[43mnx\u001b[49m\u001b[38;5;241;43m.\u001b[39;49m\u001b[43mtopological_sort\u001b[49m\u001b[43m(\u001b[49m\u001b[43mcausal_model\u001b[49m\u001b[38;5;241;43m.\u001b[39;49m\u001b[43mgraph\u001b[49m\u001b[43m)\u001b[49m\u001b[43m)\u001b[49m\u001b[43m,\u001b[49m\n\u001b[0;32m    559\u001b[0m \u001b[43m            \u001b[49m\u001b[43mposition\u001b[49m\u001b[38;5;241;43m=\u001b[39;49m\u001b[38;5;241;43m0\u001b[39;49m\u001b[43m,\u001b[49m\n\u001b[0;32m    560\u001b[0m \u001b[43m            \u001b[49m\u001b[43mleave\u001b[49m\u001b[38;5;241;43m=\u001b[39;49m\u001b[38;5;28;43;01mTrue\u001b[39;49;00m\u001b[43m,\u001b[49m\n\u001b[0;32m    561\u001b[0m \u001b[43m            \u001b[49m\u001b[43mdisable\u001b[49m\u001b[38;5;241;43m=\u001b[39;49m\u001b[38;5;129;43;01mnot\u001b[39;49;00m\u001b[43m \u001b[49m\u001b[43mconfig\u001b[49m\u001b[38;5;241;43m.\u001b[39;49m\u001b[43mshow_progress_bars\u001b[49m\u001b[43m,\u001b[49m\n\u001b[0;32m    562\u001b[0m \u001b[43m            \u001b[49m\u001b[43mdesc\u001b[49m\u001b[38;5;241;43m=\u001b[39;49m\u001b[38;5;124;43m\"\u001b[39;49m\u001b[38;5;124;43mEvaluating causal mechanisms...\u001b[39;49m\u001b[38;5;124;43m\"\u001b[39;49m\u001b[43m,\u001b[49m\n\u001b[0;32m    563\u001b[0m \u001b[43m        \u001b[49m\u001b[43m)\u001b[49m\n\u001b[0;32m    564\u001b[0m \u001b[43m    \u001b[49m\u001b[43m)\u001b[49m\n\u001b[0;32m    565\u001b[0m \u001b[43m\u001b[49m\u001b[43m)\u001b[49m\n\u001b[0;32m    567\u001b[0m \u001b[38;5;28;01mreturn\u001b[39;00m {performance_result\u001b[38;5;241m.\u001b[39mnode_name: performance_result \u001b[38;5;28;01mfor\u001b[39;00m performance_result \u001b[38;5;129;01min\u001b[39;00m all_results}\n",
      "File \u001b[1;32mc:\\Users\\wallj\\anaconda3\\envs\\pymc_env\\Lib\\site-packages\\joblib\\parallel.py:2007\u001b[0m, in \u001b[0;36mParallel.__call__\u001b[1;34m(self, iterable)\u001b[0m\n\u001b[0;32m   2001\u001b[0m \u001b[38;5;66;03m# The first item from the output is blank, but it makes the interpreter\u001b[39;00m\n\u001b[0;32m   2002\u001b[0m \u001b[38;5;66;03m# progress until it enters the Try/Except block of the generator and\u001b[39;00m\n\u001b[0;32m   2003\u001b[0m \u001b[38;5;66;03m# reach the first `yield` statement. This starts the aynchronous\u001b[39;00m\n\u001b[0;32m   2004\u001b[0m \u001b[38;5;66;03m# dispatch of the tasks to the workers.\u001b[39;00m\n\u001b[0;32m   2005\u001b[0m \u001b[38;5;28mnext\u001b[39m(output)\n\u001b[1;32m-> 2007\u001b[0m \u001b[38;5;28;01mreturn\u001b[39;00m output \u001b[38;5;28;01mif\u001b[39;00m \u001b[38;5;28mself\u001b[39m\u001b[38;5;241m.\u001b[39mreturn_generator \u001b[38;5;28;01melse\u001b[39;00m \u001b[38;5;28;43mlist\u001b[39;49m\u001b[43m(\u001b[49m\u001b[43moutput\u001b[49m\u001b[43m)\u001b[49m\n",
      "File \u001b[1;32mc:\\Users\\wallj\\anaconda3\\envs\\pymc_env\\Lib\\site-packages\\joblib\\parallel.py:1650\u001b[0m, in \u001b[0;36mParallel._get_outputs\u001b[1;34m(self, iterator, pre_dispatch)\u001b[0m\n\u001b[0;32m   1647\u001b[0m     \u001b[38;5;28;01myield\u001b[39;00m\n\u001b[0;32m   1649\u001b[0m     \u001b[38;5;28;01mwith\u001b[39;00m \u001b[38;5;28mself\u001b[39m\u001b[38;5;241m.\u001b[39m_backend\u001b[38;5;241m.\u001b[39mretrieval_context():\n\u001b[1;32m-> 1650\u001b[0m         \u001b[38;5;28;01myield from\u001b[39;00m \u001b[38;5;28mself\u001b[39m\u001b[38;5;241m.\u001b[39m_retrieve()\n\u001b[0;32m   1652\u001b[0m \u001b[38;5;28;01mexcept\u001b[39;00m \u001b[38;5;167;01mGeneratorExit\u001b[39;00m:\n\u001b[0;32m   1653\u001b[0m     \u001b[38;5;66;03m# The generator has been garbage collected before being fully\u001b[39;00m\n\u001b[0;32m   1654\u001b[0m     \u001b[38;5;66;03m# consumed. This aborts the remaining tasks if possible and warn\u001b[39;00m\n\u001b[0;32m   1655\u001b[0m     \u001b[38;5;66;03m# the user if necessary.\u001b[39;00m\n\u001b[0;32m   1656\u001b[0m     \u001b[38;5;28mself\u001b[39m\u001b[38;5;241m.\u001b[39m_exception \u001b[38;5;241m=\u001b[39m \u001b[38;5;28;01mTrue\u001b[39;00m\n",
      "File \u001b[1;32mc:\\Users\\wallj\\anaconda3\\envs\\pymc_env\\Lib\\site-packages\\joblib\\parallel.py:1754\u001b[0m, in \u001b[0;36mParallel._retrieve\u001b[1;34m(self)\u001b[0m\n\u001b[0;32m   1747\u001b[0m \u001b[38;5;28;01mwhile\u001b[39;00m \u001b[38;5;28mself\u001b[39m\u001b[38;5;241m.\u001b[39m_wait_retrieval():\n\u001b[0;32m   1748\u001b[0m \n\u001b[0;32m   1749\u001b[0m     \u001b[38;5;66;03m# If the callback thread of a worker has signaled that its task\u001b[39;00m\n\u001b[0;32m   1750\u001b[0m     \u001b[38;5;66;03m# triggered an exception, or if the retrieval loop has raised an\u001b[39;00m\n\u001b[0;32m   1751\u001b[0m     \u001b[38;5;66;03m# exception (e.g. `GeneratorExit`), exit the loop and surface the\u001b[39;00m\n\u001b[0;32m   1752\u001b[0m     \u001b[38;5;66;03m# worker traceback.\u001b[39;00m\n\u001b[0;32m   1753\u001b[0m     \u001b[38;5;28;01mif\u001b[39;00m \u001b[38;5;28mself\u001b[39m\u001b[38;5;241m.\u001b[39m_aborting:\n\u001b[1;32m-> 1754\u001b[0m         \u001b[38;5;28;43mself\u001b[39;49m\u001b[38;5;241;43m.\u001b[39;49m\u001b[43m_raise_error_fast\u001b[49m\u001b[43m(\u001b[49m\u001b[43m)\u001b[49m\n\u001b[0;32m   1755\u001b[0m         \u001b[38;5;28;01mbreak\u001b[39;00m\n\u001b[0;32m   1757\u001b[0m     \u001b[38;5;66;03m# If the next job is not ready for retrieval yet, we just wait for\u001b[39;00m\n\u001b[0;32m   1758\u001b[0m     \u001b[38;5;66;03m# async callbacks to progress.\u001b[39;00m\n",
      "File \u001b[1;32mc:\\Users\\wallj\\anaconda3\\envs\\pymc_env\\Lib\\site-packages\\joblib\\parallel.py:1789\u001b[0m, in \u001b[0;36mParallel._raise_error_fast\u001b[1;34m(self)\u001b[0m\n\u001b[0;32m   1785\u001b[0m \u001b[38;5;66;03m# If this error job exists, immediatly raise the error by\u001b[39;00m\n\u001b[0;32m   1786\u001b[0m \u001b[38;5;66;03m# calling get_result. This job might not exists if abort has been\u001b[39;00m\n\u001b[0;32m   1787\u001b[0m \u001b[38;5;66;03m# called directly or if the generator is gc'ed.\u001b[39;00m\n\u001b[0;32m   1788\u001b[0m \u001b[38;5;28;01mif\u001b[39;00m error_job \u001b[38;5;129;01mis\u001b[39;00m \u001b[38;5;129;01mnot\u001b[39;00m \u001b[38;5;28;01mNone\u001b[39;00m:\n\u001b[1;32m-> 1789\u001b[0m     \u001b[43merror_job\u001b[49m\u001b[38;5;241;43m.\u001b[39;49m\u001b[43mget_result\u001b[49m\u001b[43m(\u001b[49m\u001b[38;5;28;43mself\u001b[39;49m\u001b[38;5;241;43m.\u001b[39;49m\u001b[43mtimeout\u001b[49m\u001b[43m)\u001b[49m\n",
      "File \u001b[1;32mc:\\Users\\wallj\\anaconda3\\envs\\pymc_env\\Lib\\site-packages\\joblib\\parallel.py:745\u001b[0m, in \u001b[0;36mBatchCompletionCallBack.get_result\u001b[1;34m(self, timeout)\u001b[0m\n\u001b[0;32m    739\u001b[0m backend \u001b[38;5;241m=\u001b[39m \u001b[38;5;28mself\u001b[39m\u001b[38;5;241m.\u001b[39mparallel\u001b[38;5;241m.\u001b[39m_backend\n\u001b[0;32m    741\u001b[0m \u001b[38;5;28;01mif\u001b[39;00m backend\u001b[38;5;241m.\u001b[39msupports_retrieve_callback:\n\u001b[0;32m    742\u001b[0m     \u001b[38;5;66;03m# We assume that the result has already been retrieved by the\u001b[39;00m\n\u001b[0;32m    743\u001b[0m     \u001b[38;5;66;03m# callback thread, and is stored internally. It's just waiting to\u001b[39;00m\n\u001b[0;32m    744\u001b[0m     \u001b[38;5;66;03m# be returned.\u001b[39;00m\n\u001b[1;32m--> 745\u001b[0m     \u001b[38;5;28;01mreturn\u001b[39;00m \u001b[38;5;28;43mself\u001b[39;49m\u001b[38;5;241;43m.\u001b[39;49m\u001b[43m_return_or_raise\u001b[49m\u001b[43m(\u001b[49m\u001b[43m)\u001b[49m\n\u001b[0;32m    747\u001b[0m \u001b[38;5;66;03m# For other backends, the main thread needs to run the retrieval step.\u001b[39;00m\n\u001b[0;32m    748\u001b[0m \u001b[38;5;28;01mtry\u001b[39;00m:\n",
      "File \u001b[1;32mc:\\Users\\wallj\\anaconda3\\envs\\pymc_env\\Lib\\site-packages\\joblib\\parallel.py:763\u001b[0m, in \u001b[0;36mBatchCompletionCallBack._return_or_raise\u001b[1;34m(self)\u001b[0m\n\u001b[0;32m    761\u001b[0m \u001b[38;5;28;01mtry\u001b[39;00m:\n\u001b[0;32m    762\u001b[0m     \u001b[38;5;28;01mif\u001b[39;00m \u001b[38;5;28mself\u001b[39m\u001b[38;5;241m.\u001b[39mstatus \u001b[38;5;241m==\u001b[39m TASK_ERROR:\n\u001b[1;32m--> 763\u001b[0m         \u001b[38;5;28;01mraise\u001b[39;00m \u001b[38;5;28mself\u001b[39m\u001b[38;5;241m.\u001b[39m_result\n\u001b[0;32m    764\u001b[0m     \u001b[38;5;28;01mreturn\u001b[39;00m \u001b[38;5;28mself\u001b[39m\u001b[38;5;241m.\u001b[39m_result\n\u001b[0;32m    765\u001b[0m \u001b[38;5;28;01mfinally\u001b[39;00m:\n",
      "\u001b[1;31mTypeError\u001b[0m: got an unexpected keyword argument 'squared'"
     ]
    }
   ],
   "source": [
    "# ================================= #\n",
    "# Evaluate Causal Graph             #\n",
    "# ================================= #\n",
    "#%%\n",
    "\n",
    "gcm.evaluate_causal_model(\n",
    "    model,\n",
    "    df,\n",
    "    compare_mechanism_baselines=True,\n",
    "    evaluate_invertibility_assumptions=True,\n",
    ")\n",
    "#%%\n",
    "# PNL Assumption for sales and price is (1.0, False, 0.05)\n",
    "# 1.0 → Suggests that a nonlinear causal relationship might be necessary.\n",
    "# False → Indicates that no strong violation of the assumption was detected.\n",
    "# 0.05 → Significance level used for the test.\n",
    "# ✅ Interpretation: Your causal model is not strongly rejecting the assumption, but the relationships may be somewhat nonlinear. If the model performance is poor, consider using nonparametric methods (e.g., Gaussian Processes) instead of linear models.\n",
    "# DoWhy tests 24 different DAG permutations to check if your causal graph is part of the Markov equivalence class (i.e., a valid structure).\n",
    "# 2/24 permutations were equivalent to your DAG.\n",
    "# p-value: 0.08 means there is no strong evidence against your graph, though it's not highly robust either.\n",
    "# ✅ Interpretation: Your DAG is informative and likely close to the true causal structure, but there might be alternative DAGs that fit nearly as well.\n",
    "# No violations of Local Markov Conditions (0/4 LMCs) → Your causal relationships follow conditional independence rules.\n",
    "# Your DAG is better than 91.7% of alternative DAGs.\n",
    "# p-value: 0.08 → Indicates the DAG fits well but is not statistically “perfect”.\n",
    "# ✅ Interpretation: Your DAG is statistically valid under this test.\n",
    "# The model is not strongly rejected, meaning your assumed causal directions are likely correct.\n",
    "# Since the significance threshold was 0.2 (a common setting), your DAG passes the test."
   ]
  },
  {
   "cell_type": "code",
   "execution_count": null,
   "metadata": {},
   "outputs": [],
   "source": [
    "# ================================= #\n",
    "# Attribution Analysis              #\n",
    "# ================================= #\n",
    "#%%\n",
    "# Define the anomaly (a revenue drop)\n",
    "# anomalous_point = {\"sales\": df[\"sales\"].iloc[725]}  # Selecting a known anomalous drop\n",
    "anomalous_point = {\n",
    "    \"sales\": df[\"sales\"].iloc[725],\n",
    "    \"price\": df[\"price\"].iloc[725],\n",
    "    \"ad_spend\": df[\"ad_spend\"].iloc[725],  # Ensure this is included\n",
    "    \"competitor_price\": df[\"competitor_price\"].iloc[725],\n",
    "}\n",
    "\n",
    "# Compute confidence intervals for anomaly attributions\n",
    "median_attributions, confidence_intervals = gcm.confidence_intervals(\n",
    "   gcm.fit_and_compute(\n",
    "       gcm.attribute_anomalies,    # Function to attribute anomalies\n",
    "       model,                        # Structural causal model\n",
    "       bootstrap_training_data=df, # Training data for bootstrapping\n",
    "       target_node=\"sales\",      # Target variable for anomaly attribution\n",
    "       anomaly_samples=pd.DataFrame([anomalous_point])  # The anomaly to analyze\n",
    "   ),\n",
    "   num_bootstrap_resamples=10  # Number of bootstrap resamples for confidence intervals\n",
    ")\n",
    "#%%"
   ]
  },
  {
   "cell_type": "code",
   "execution_count": null,
   "metadata": {},
   "outputs": [],
   "source": [
    "# ================================= #\n",
    "# Visualize Attributions            #\n",
    "# ================================= #\n",
    "#%%\n",
    "# Helper function to plot attributions\n",
    "def bar_plot(median_attributions, confidence_intervals, title):\n",
    "    plt.figure(figsize=(8, 5))\n",
    "    \n",
    "    # Extract the lower and upper bounds of the confidence intervals\n",
    "    lower_bounds = {key: confidence_intervals[key][0] for key in confidence_intervals}\n",
    "    upper_bounds = {key: confidence_intervals[key][1] for key in confidence_intervals}\n",
    "    \n",
    "    # Convert dict_values to NumPy arrays\n",
    "    median_values = np.array(list(median_attributions.values()))\n",
    "    lower_values = np.array(list(lower_bounds.values()))\n",
    "    upper_values = np.array(list(upper_bounds.values()))\n",
    "    \n",
    "    # Calculate the error bars\n",
    "    yerr = [\n",
    "        median_values - lower_values,\n",
    "        upper_values - median_values\n",
    "    ]\n",
    "    \n",
    "    plt.bar(median_attributions.keys(), median_values, yerr=yerr, capsize=5, color=\"royalblue\", alpha=0.7)\n",
    "    plt.xlabel(\"Factors\")\n",
    "    plt.ylabel(\"Anomaly Attribution Score\")\n",
    "    plt.title(title)\n",
    "    plt.xticks(rotation=30)\n",
    "    plt.show()\n",
    "\n",
    "# Plot the anomaly attribution scores with confidence intervals\n",
    "bar_plot(median_attributions, confidence_intervals, \"Revenue Anomaly Attribution\")\n",
    "#%%"
   ]
  }
 ],
 "metadata": {
  "kernelspec": {
   "display_name": "pymc_env",
   "language": "python",
   "name": "python3"
  },
  "language_info": {
   "codemirror_mode": {
    "name": "ipython",
    "version": 3
   },
   "file_extension": ".py",
   "mimetype": "text/x-python",
   "name": "python",
   "nbconvert_exporter": "python",
   "pygments_lexer": "ipython3",
   "version": "3.11.9"
  }
 },
 "nbformat": 4,
 "nbformat_minor": 2
}
