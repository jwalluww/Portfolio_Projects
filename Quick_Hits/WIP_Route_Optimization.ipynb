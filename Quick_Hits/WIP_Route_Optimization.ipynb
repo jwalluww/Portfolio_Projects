{
 "cells": [
  {
   "cell_type": "code",
   "execution_count": 1,
   "metadata": {},
   "outputs": [
    {
     "data": {
      "text/plain": [
       "'\\nRoute Optimization\\n\\n📌 **Objective**:\\n- Create a synthetic dataset for a retail pricing problem where we analyze the causal effects of a price change on customer demand\\n- Understand relationship between product price, advertising spend, competitor pricing, and customer demand\\n\\n🔍 **Key Takeaways**:\\n- **BLAH**: \\n- **Next Steps**: \\n    - \\n\\n📌 **Methodology**:\\nBayesian Networks (BNs)\\n\\nDirected Acyclic Graph (DAG) where nodes represent variables, and edges represent causal or probabilistic dependencies.\\nUses Conditional Probability Tables (CPTs) to define relationships.\\nIdeal for causal modeling, decision support, and prediction.\\nUse case fit: ✅ Best for supply chain risk estimation because disruptions often follow a causal chain (e.g., raw material shortages → production delays → supplier failure).\\nPGMPY also supports Markov Networks but follow undirect graphs that do not have causal relationship - not as good for supply chain risk estimation.\\n\\n✍ **Author**: Justin Wall\\n📅 **Date**: 02/16/2025\\n'"
      ]
     },
     "execution_count": 1,
     "metadata": {},
     "output_type": "execute_result"
    }
   ],
   "source": [
    "\"\"\"\n",
    "Route Optimization\n",
    "\n",
    "📌 **Objective**:\n",
    "- Create a synthetic dataset for a retail pricing problem where we analyze the causal effects of a price change on customer demand\n",
    "- Understand relationship between product price, advertising spend, competitor pricing, and customer demand\n",
    "\n",
    "🔍 **Key Takeaways**:\n",
    "- **BLAH**: \n",
    "- **Next Steps**: \n",
    "    - \n",
    "\n",
    "📌 **Methodology**:\n",
    "Bayesian Networks (BNs)\n",
    "\n",
    "Directed Acyclic Graph (DAG) where nodes represent variables, and edges represent causal or probabilistic dependencies.\n",
    "Uses Conditional Probability Tables (CPTs) to define relationships.\n",
    "Ideal for causal modeling, decision support, and prediction.\n",
    "Use case fit: ✅ Best for supply chain risk estimation because disruptions often follow a causal chain (e.g., raw material shortages → production delays → supplier failure).\n",
    "PGMPY also supports Markov Networks but follow undirect graphs that do not have causal relationship - not as good for supply chain risk estimation.\n",
    "\n",
    "✍ **Author**: Justin Wall\n",
    "📅 **Date**: 02/16/2025\n",
    "\"\"\""
   ]
  },
  {
   "cell_type": "code",
   "execution_count": null,
   "metadata": {},
   "outputs": [],
   "source": [
    "# =============================================\n",
    "# Create Fake Dataset for Route Optimization\n",
    "# =============================================\n",
    "#%%\n",
    "import numpy as np\n",
    "import pandas as pd\n",
    "\n",
    "# Set random seed for reproducibility\n",
    "np.random.seed(42)\n",
    "\n",
    "# Number of delivery locations\n",
    "num_locations = 10\n",
    "\n",
    "# Generate random (x, y) coordinates for warehouse and delivery locations\n",
    "warehouse = (0, 0)  # Assume warehouse is at origin\n",
    "locations = np.random.uniform(-50, 50, size=(num_locations, 2))\n",
    "\n",
    "# Combine warehouse and locations into a DataFrame\n",
    "df = pd.DataFrame(np.vstack([warehouse, locations]), columns=[\"x\", \"y\"])\n",
    "df.index.name = \"Location_ID\"\n",
    "df[\"Type\"] = [\"Warehouse\"] + [\"Delivery\"] * num_locations\n",
    "\n",
    "print(df)\n",
    "#%%"
   ]
  }
 ],
 "metadata": {
  "kernelspec": {
   "display_name": "pymc_env",
   "language": "python",
   "name": "python3"
  },
  "language_info": {
   "codemirror_mode": {
    "name": "ipython",
    "version": 3
   },
   "file_extension": ".py",
   "mimetype": "text/x-python",
   "name": "python",
   "nbconvert_exporter": "python",
   "pygments_lexer": "ipython3",
   "version": "3.11.9"
  }
 },
 "nbformat": 4,
 "nbformat_minor": 2
}
