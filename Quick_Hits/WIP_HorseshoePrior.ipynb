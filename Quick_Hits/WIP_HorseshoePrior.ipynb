{
 "cells": [
  {
   "cell_type": "markdown",
   "id": "c8ba0fbf",
   "metadata": {},
   "source": [
    "\"\"\"\n",
    "Horseshoe Prior for Sparse Bayesian Regression\n",
    "\n",
    "📌 **Objective**:\n",
    "- Demonstrate how the horseshoe prior helps when most predictors are irrelevant (sparse signals), while providing uncertainty over which features matter.\n",
    "\n",
    "🔍 **Key Takeaways**:\n",
    "- **BLAH**: \n",
    "\n",
    "- **Next Steps**: \n",
    "    - \n",
    "\n",
    "📌 **Methodology**:\n",
    "1. **Create a causal graph** using NetworkX\n",
    "2. **Perform causal discovery** using DoWhy\n",
    "\n",
    "\n",
    "✍ **Author**: Justin Wall\n",
    "📅 **Date**: 08/28/2025\n",
    "\"\"\""
   ]
  },
  {
   "cell_type": "code",
   "execution_count": null,
   "id": "7137d05e",
   "metadata": {},
   "outputs": [],
   "source": [
    "# ================================= #\n",
    "# Import Libraries                  #\n",
    "# ================================= #\n",
    "#%%\n",
    "import numpy as np\n",
    "import pandas as pd\n",
    "from numpy.random import default_rng\n",
    "from sklearn.model_selection import train_test_split\n",
    "from sklearn.preprocessing import StandardScaler\n",
    "from sklearn.linear_model import LinearRegression, RidgeCV, LassoCV\n",
    "from sklearn.metrics import mean_squared_error\n",
    "import matplotlib.pyplot as plt\n",
    "\n",
    "import pymc as pm\n",
    "import arviz as az\n",
    "#%%"
   ]
  },
  {
   "cell_type": "code",
   "execution_count": 10,
   "id": "9e2e4491",
   "metadata": {},
   "outputs": [
    {
     "data": {
      "text/html": [
       "<div>\n",
       "<style scoped>\n",
       "    .dataframe tbody tr th:only-of-type {\n",
       "        vertical-align: middle;\n",
       "    }\n",
       "\n",
       "    .dataframe tbody tr th {\n",
       "        vertical-align: top;\n",
       "    }\n",
       "\n",
       "    .dataframe thead th {\n",
       "        text-align: right;\n",
       "    }\n",
       "</style>\n",
       "<table border=\"1\" class=\"dataframe\">\n",
       "  <thead>\n",
       "    <tr style=\"text-align: right;\">\n",
       "      <th></th>\n",
       "      <th>market</th>\n",
       "      <th>week_start</th>\n",
       "    </tr>\n",
       "  </thead>\n",
       "  <tbody>\n",
       "    <tr>\n",
       "      <th>0</th>\n",
       "      <td>Portland</td>\n",
       "      <td>2024-01-01</td>\n",
       "    </tr>\n",
       "    <tr>\n",
       "      <th>1</th>\n",
       "      <td>Portland</td>\n",
       "      <td>2024-01-08</td>\n",
       "    </tr>\n",
       "    <tr>\n",
       "      <th>2</th>\n",
       "      <td>Portland</td>\n",
       "      <td>2024-01-15</td>\n",
       "    </tr>\n",
       "    <tr>\n",
       "      <th>3</th>\n",
       "      <td>Portland</td>\n",
       "      <td>2024-01-22</td>\n",
       "    </tr>\n",
       "    <tr>\n",
       "      <th>4</th>\n",
       "      <td>Portland</td>\n",
       "      <td>2024-01-29</td>\n",
       "    </tr>\n",
       "  </tbody>\n",
       "</table>\n",
       "</div>"
      ],
      "text/plain": [
       "     market week_start\n",
       "0  Portland 2024-01-01\n",
       "1  Portland 2024-01-08\n",
       "2  Portland 2024-01-15\n",
       "3  Portland 2024-01-22\n",
       "4  Portland 2024-01-29"
      ]
     },
     "execution_count": 10,
     "metadata": {},
     "output_type": "execute_result"
    }
   ],
   "source": [
    "# ================================= #\n",
    "# Create Synthetic Dataset          #\n",
    "# ================================= #\n",
    "#%%\n",
    "rng = default_rng(42)\n",
    "\n",
    "# 2) Panel skeleton: 6 markets x 50 weeks = 300 rows\n",
    "markets = [\"Portland\",\"Minneapolis\",\"Chicago\",\"Philadelphia\",\"Miami\",\"Dallas\"]\n",
    "weeks = pd.date_range(\"2024-01-01\", periods=50, freq=\"W-MON\")\n",
    "\n",
    "df = pd.MultiIndex.from_product([markets, weeks], names=[\"market\",\"week_start\"]).to_frame(index=False)\n",
    "n = len(df)\n",
    "df.head()\n",
    "#%%"
   ]
  },
  {
   "cell_type": "code",
   "execution_count": 6,
   "id": "2995590a",
   "metadata": {},
   "outputs": [
    {
     "ename": "AttributeError",
     "evalue": "'numpy.ndarray' object has no attribute 'head'",
     "output_type": "error",
     "traceback": [
      "\u001b[1;31m---------------------------------------------------------------------------\u001b[0m",
      "\u001b[1;31mAttributeError\u001b[0m                            Traceback (most recent call last)",
      "Cell \u001b[1;32mIn[6], line 5\u001b[0m\n\u001b[0;32m      1\u001b[0m \u001b[38;5;66;03m# ================================= #\u001b[39;00m\n\u001b[0;32m      2\u001b[0m \u001b[38;5;66;03m# Understand Data                   #\u001b[39;00m\n\u001b[0;32m      3\u001b[0m \u001b[38;5;66;03m# ================================= #\u001b[39;00m\n\u001b[0;32m      4\u001b[0m \u001b[38;5;66;03m#%%\u001b[39;00m\n\u001b[1;32m----> 5\u001b[0m \u001b[43mX\u001b[49m\u001b[38;5;241;43m.\u001b[39;49m\u001b[43mhead\u001b[49m()\n\u001b[0;32m      6\u001b[0m \u001b[38;5;66;03m#%%\u001b[39;00m\n",
      "\u001b[1;31mAttributeError\u001b[0m: 'numpy.ndarray' object has no attribute 'head'"
     ]
    }
   ],
   "source": [
    "# ================================= #\n",
    "# Understand Data                   #\n",
    "# ================================= #\n",
    "#%%\n",
    "X.head()\n",
    "#%%"
   ]
  },
  {
   "cell_type": "code",
   "execution_count": 7,
   "id": "4038ec48",
   "metadata": {},
   "outputs": [],
   "source": [
    "# ================================= #\n",
    "# Baseline Model                    #\n",
    "# ================================= #\n",
    "#%%\n",
    "ols = LinearRegression().fit(X_train_s, y_train)\n",
    "ridge = RidgeCV(alphas=np.logspace(-3, 3, 51)).fit(X_train_s, y_train)\n",
    "lasso = LassoCV(alphas=None, cv=5, n_alphas=100, random_state=0).fit(X_train_s, y_train)\n",
    "#%%"
   ]
  },
  {
   "cell_type": "code",
   "execution_count": 8,
   "id": "7a5dfefa",
   "metadata": {},
   "outputs": [
    {
     "data": {
      "text/plain": [
       "(1.974300087308445, 1.7100579368654292, 1.1648904971388478)"
      ]
     },
     "execution_count": 8,
     "metadata": {},
     "output_type": "execute_result"
    }
   ],
   "source": [
    "# ================================= #\n",
    "# Make Predictions                  #\n",
    "# ================================= #\n",
    "#%%\n",
    "y_pred_ols = ols.predict(X_test_s)\n",
    "y_pred_ridge = ridge.predict(X_test_s)\n",
    "y_pred_lasso = lasso.predict(X_test_s)\n",
    "\n",
    "# Evaluate predictions\n",
    "mse_ols = mean_squared_error(y_test, y_pred_ols)\n",
    "mse_ridge = mean_squared_error(y_test, y_pred_ridge)\n",
    "mse_lasso = mean_squared_error(y_test, y_pred_lasso)\n",
    "\n",
    "mse_ols, mse_ridge, mse_lasso\n",
    "#%%"
   ]
  },
  {
   "cell_type": "code",
   "execution_count": null,
   "id": "34ac63f3",
   "metadata": {},
   "outputs": [],
   "source": []
  }
 ],
 "metadata": {
  "kernelspec": {
   "display_name": "pymc_env",
   "language": "python",
   "name": "python3"
  },
  "language_info": {
   "codemirror_mode": {
    "name": "ipython",
    "version": 3
   },
   "file_extension": ".py",
   "mimetype": "text/x-python",
   "name": "python",
   "nbconvert_exporter": "python",
   "pygments_lexer": "ipython3",
   "version": "3.11.11"
  }
 },
 "nbformat": 4,
 "nbformat_minor": 5
}
