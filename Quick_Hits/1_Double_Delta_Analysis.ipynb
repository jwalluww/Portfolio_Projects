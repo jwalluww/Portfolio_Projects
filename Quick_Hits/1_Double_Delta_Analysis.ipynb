{
 "cells": [
  {
   "cell_type": "code",
   "execution_count": 1,
   "metadata": {},
   "outputs": [
    {
     "data": {
      "text/plain": [
       "\"\\nDouble Delta (Difference-in-Differences) Method for Loyalty Program Impact Analysis\\n---\\n\\n🔍 **Situation**:\\nWe wanted to measure the causal impact of a loyalty program on customer spending.\\nSimply observing spending changes might not isolate the true effect since spending naturally fluctuates over time.\\nTo account for this, we employed the Double Delta (Difference-in-Differences) method to control for natural spending trends and ensure our conclusions were based on causal evidence rather than external factors.\\n\\n📌 **Task**:\\n✅ Simulate customer spending data to create a realistic scenario.\\n✅ Compute the Double Delta Effect using the Difference-in-Differences method to measure the loyalty program's effect.\\n✅ Run an OLS regression model as a robustness check to confirm statistical significance.\\n\\n✨ **Action**: \\nCreated Synthetic Data:\\n- Simulated 1,000 customer records with baseline spending, natural growth, and potential treatment effects.\\nCalculated Double Delta Effect:\\n- Compared spending changes for treated (loyalty program) and control (non-participants) groups both before and after the loyalty program.\\n- Computed the Difference-in-Differences (DiD) value to isolate the loyalty program’s causal impact.\\nPerformed Robustness Check with Regression:\\n- Ran an Ordinary Least Squares (OLS) regression model\\n- Verified that the treatment effect term (treatment:time) was statistically significant.\\n\\n📈 **Result**:\\n✅ The Double Delta Effect was $15.10, indicating that customers who joined the loyalty program spent $15.10 more on average than those who did not, after accounting for natural spending growth.\\n✅ The OLS Regression confirmed this result with a positive and significant interaction term (treatment:time = 15.0951, p < 0.001), strengthening our confidence that the loyalty program caused the increase in spending.\\n\\n🚀 Next Steps / Additional Analysis\\n- Explore whether the effect varies across customer segments (e.g., high-value vs low-value customers).\\n- Test if the observed effect persists over longer time periods.\\n- Investigate potential confounders such as seasonality or promotional campaigns that may have influenced results.\\n\\n✍ **Author**: Justin Wall\\n📅 **Updated**: 03/04/2025\\n\""
      ]
     },
     "execution_count": 1,
     "metadata": {},
     "output_type": "execute_result"
    }
   ],
   "source": [
    "\"\"\"\n",
    "Double Delta (Difference-in-Differences) Method for Loyalty Program Impact Analysis\n",
    "---\n",
    "\n",
    "🔍 **Situation**:\n",
    "We wanted to measure the causal impact of a loyalty program on customer spending.\n",
    "Simply observing spending changes might not isolate the true effect since spending naturally fluctuates over time.\n",
    "To account for this, we employed the Double Delta (Difference-in-Differences) method to control for natural spending trends and ensure our conclusions were based on causal evidence rather than external factors.\n",
    "\n",
    "📌 **Task**:\n",
    "✅ Simulate customer spending data to create a realistic scenario.\n",
    "✅ Compute the Double Delta Effect using the Difference-in-Differences method to measure the loyalty program's effect.\n",
    "✅ Run an OLS regression model as a robustness check to confirm statistical significance.\n",
    "\n",
    "✨ **Action**: \n",
    "Created Synthetic Data:\n",
    "- Simulated 1,000 customer records with baseline spending, natural growth, and potential treatment effects.\n",
    "Calculated Double Delta Effect:\n",
    "- Compared spending changes for treated (loyalty program) and control (non-participants) groups both before and after the loyalty program.\n",
    "- Computed the Difference-in-Differences (DiD) value to isolate the loyalty program’s causal impact.\n",
    "Performed Robustness Check with Regression:\n",
    "- Ran an Ordinary Least Squares (OLS) regression model\n",
    "- Verified that the treatment effect term (treatment:time) was statistically significant.\n",
    "\n",
    "📈 **Result**:\n",
    "✅ The Double Delta Effect was $15.10, indicating that customers who joined the loyalty program spent $15.10 more on average than those who did not, after accounting for natural spending growth.\n",
    "✅ The OLS Regression confirmed this result with a positive and significant interaction term (treatment:time = 15.0951, p < 0.001), strengthening our confidence that the loyalty program caused the increase in spending.\n",
    "\n",
    "🚀 Next Steps / Additional Analysis\n",
    "- Explore whether the effect varies across customer segments (e.g., high-value vs low-value customers).\n",
    "- Test if the observed effect persists over longer time periods.\n",
    "- Investigate potential confounders such as seasonality or promotional campaigns that may have influenced results.\n",
    "\n",
    "✍ **Author**: Justin Wall\n",
    "📅 **Updated**: 03/04/2025\n",
    "\"\"\""
   ]
  },
  {
   "cell_type": "code",
   "execution_count": 14,
   "metadata": {},
   "outputs": [
    {
     "name": "stdout",
     "output_type": "stream",
     "text": [
      "(1000, 5)\n"
     ]
    },
    {
     "data": {
      "text/html": [
       "<div>\n",
       "<style scoped>\n",
       "    .dataframe tbody tr th:only-of-type {\n",
       "        vertical-align: middle;\n",
       "    }\n",
       "\n",
       "    .dataframe tbody tr th {\n",
       "        vertical-align: top;\n",
       "    }\n",
       "\n",
       "    .dataframe thead th {\n",
       "        text-align: right;\n",
       "    }\n",
       "</style>\n",
       "<table border=\"1\" class=\"dataframe\">\n",
       "  <thead>\n",
       "    <tr style=\"text-align: right;\">\n",
       "      <th></th>\n",
       "      <th>customer_id</th>\n",
       "      <th>treatment</th>\n",
       "      <th>pre_spending</th>\n",
       "      <th>spending_growth</th>\n",
       "      <th>post_spending</th>\n",
       "    </tr>\n",
       "  </thead>\n",
       "  <tbody>\n",
       "    <tr>\n",
       "      <th>0</th>\n",
       "      <td>0</td>\n",
       "      <td>0</td>\n",
       "      <td>103.554020</td>\n",
       "      <td>2.968413</td>\n",
       "      <td>106.522433</td>\n",
       "    </tr>\n",
       "    <tr>\n",
       "      <th>1</th>\n",
       "      <td>1</td>\n",
       "      <td>1</td>\n",
       "      <td>73.293113</td>\n",
       "      <td>9.584472</td>\n",
       "      <td>94.628759</td>\n",
       "    </tr>\n",
       "    <tr>\n",
       "      <th>2</th>\n",
       "      <td>2</td>\n",
       "      <td>1</td>\n",
       "      <td>107.603957</td>\n",
       "      <td>2.476398</td>\n",
       "      <td>119.064351</td>\n",
       "    </tr>\n",
       "    <tr>\n",
       "      <th>3</th>\n",
       "      <td>3</td>\n",
       "      <td>1</td>\n",
       "      <td>112.211715</td>\n",
       "      <td>13.800280</td>\n",
       "      <td>135.801773</td>\n",
       "    </tr>\n",
       "    <tr>\n",
       "      <th>4</th>\n",
       "      <td>4</td>\n",
       "      <td>0</td>\n",
       "      <td>111.195809</td>\n",
       "      <td>10.412199</td>\n",
       "      <td>121.608008</td>\n",
       "    </tr>\n",
       "  </tbody>\n",
       "</table>\n",
       "</div>"
      ],
      "text/plain": [
       "   customer_id  treatment  pre_spending  spending_growth  post_spending\n",
       "0            0          0    103.554020         2.968413     106.522433\n",
       "1            1          1     73.293113         9.584472      94.628759\n",
       "2            2          1    107.603957         2.476398     119.064351\n",
       "3            3          1    112.211715        13.800280     135.801773\n",
       "4            4          0    111.195809        10.412199     121.608008"
      ]
     },
     "execution_count": 14,
     "metadata": {},
     "output_type": "execute_result"
    }
   ],
   "source": [
    "# ==========================================\n",
    "# Create synthetic dataset\n",
    "# ==========================================\n",
    "#%%\n",
    "import numpy as np\n",
    "import pandas as pd\n",
    "import seaborn as sns\n",
    "import matplotlib.pyplot as plt\n",
    "\n",
    "# Set seed for reproducibility\n",
    "np.random.seed(42)\n",
    "\n",
    "# Create dataset\n",
    "n = 1000  # Total customers\n",
    "df = pd.DataFrame({\n",
    "    \"customer_id\": np.arange(n),\n",
    "    \"treatment\": np.random.choice([0, 1], size=n, p=[0.5, 0.5]),  # 50% join the loyalty program\n",
    "})\n",
    "\n",
    "# Baseline spending before the loyalty program\n",
    "df[\"pre_spending\"] = np.random.normal(100, 20, size=n)\n",
    "\n",
    "# Natural spending growth (without treatment)\n",
    "df[\"spending_growth\"] = np.random.normal(10, 5, size=n)  \n",
    "\n",
    "# Treatment effect (applies only to treated customers)\n",
    "treatment_effect = np.random.normal(15, 5, size=n)  # Additional boost from the loyalty program\n",
    "\n",
    "# Post-treatment spending\n",
    "df[\"post_spending\"] = df[\"pre_spending\"] + df[\"spending_growth\"] + (df[\"treatment\"] * treatment_effect)\n",
    "\n",
    "# Show sample data\n",
    "print(df.shape)\n",
    "df.head()\n",
    "#%%"
   ]
  },
  {
   "cell_type": "code",
   "execution_count": null,
   "metadata": {},
   "outputs": [
    {
     "data": {
      "image/png": "[encoded data removed]",
      "text/plain": [
       "<Figure size 1200x800 with 1 Axes>"
      ]
     },
     "metadata": {},
     "output_type": "display_data"
    }
   ],
   "source": [
    "# Melt the DataFrame to long format for seaborn\n",
    "df_melted = df.melt(id_vars=['customer_id', 'treatment'], value_vars=['pre_spending', 'post_spending', 'spending_growth'], var_name='Spending_Type', value_name='Amount')\n",
    "df_melted['treatment'] = df_melted['treatment'].map({0: 'Control', 1: 'Treated'})\n",
    "\n",
    "# Set the seaborn style\n",
    "sns.set_theme(style=\"whitegrid\")\n",
    "\n",
    "# Create a figure\n",
    "plt.figure(figsize=(12, 8))\n",
    "\n",
    "# Plot all spending types on the same chart\n",
    "bar_plot = sns.barplot(x='treatment', y='Amount', hue='Spending_Type', data=df_melted, palette='muted')\n",
    "\n",
    "# Add the value on top of the bar\n",
    "for p in bar_plot.patches:\n",
    "    bar_plot.annotate(f'${p.get_height():.2f}', (p.get_x() + p.get_width() / 2., p.get_height()), ha='center', va='center', xytext=(0, 9), textcoords='offset points')\n",
    "\n",
    "# Set labels and title\n",
    "bar_plot.set_xlabel('Treatment')\n",
    "bar_plot.set_ylabel('Amount ($)')\n",
    "bar_plot.set_title('Spending Comparison by Treatment')\n",
    "\n",
    "# Show the plot\n",
    "plt.tight_layout()\n",
    "plt.show()"
   ]
  },
  {
   "cell_type": "code",
   "execution_count": 3,
   "metadata": {},
   "outputs": [
    {
     "name": "stdout",
     "output_type": "stream",
     "text": [
      "Pre-Treatment Spending (Treated): $101.63\n",
      "Post-Treatment Spending (Treated): $126.60\n",
      "Pre-Treatment Spending (Control): $102.32\n",
      "Post-Treatment Spending (Control): $112.20\n",
      "Double Delta Effect: $15.10\n"
     ]
    }
   ],
   "source": [
    "# ==========================================\n",
    "# Compute Double Delta Effect               \n",
    "# ==========================================\n",
    "#%%\n",
    "# Compute average spending before & after for both groups\n",
    "pre_treated = df[df[\"treatment\"] == 1][\"pre_spending\"].mean()\n",
    "post_treated = df[df[\"treatment\"] == 1][\"post_spending\"].mean()\n",
    "pre_control = df[df[\"treatment\"] == 0][\"pre_spending\"].mean()\n",
    "post_control = df[df[\"treatment\"] == 0][\"post_spending\"].mean()\n",
    "\n",
    "# Calculate Double Delta (Difference-in-Differences)\n",
    "double_delta = (post_treated - pre_treated) - (post_control - pre_control)\n",
    "\n",
    "# Print results\n",
    "print(f\"Pre-Treatment Spending (Treated): ${pre_treated:.2f}\")\n",
    "print(f\"Post-Treatment Spending (Treated): ${post_treated:.2f}\")\n",
    "print(f\"Pre-Treatment Spending (Control): ${pre_control:.2f}\")\n",
    "print(f\"Post-Treatment Spending (Control): ${post_control:.2f}\")\n",
    "print(f\"Double Delta Effect: ${double_delta:.2f}\")\n",
    "# Pre-Treatment Spending (Treated): $101.63\n",
    "# Post-Treatment Spending (Treated): $126.60\n",
    "# Pre-Treatment Spending (Control): $102.32\n",
    "# Post-Treatment Spending (Control): $112.20\n",
    "# Double Delta Effect: $15.10\n",
    "#%%"
   ]
  },
  {
   "cell_type": "code",
   "execution_count": 4,
   "metadata": {},
   "outputs": [
    {
     "name": "stdout",
     "output_type": "stream",
     "text": [
      "                            OLS Regression Results                            \n",
      "==============================================================================\n",
      "Dep. Variable:               spending   R-squared:                       0.200\n",
      "Model:                            OLS   Adj. R-squared:                  0.199\n",
      "Method:                 Least Squares   F-statistic:                     166.3\n",
      "Date:                Tue, 18 Mar 2025   Prob (F-statistic):           3.02e-96\n",
      "Time:                        20:33:12   Log-Likelihood:                -8844.2\n",
      "No. Observations:                2000   AIC:                         1.770e+04\n",
      "Df Residuals:                    1996   BIC:                         1.772e+04\n",
      "Df Model:                           3                                         \n",
      "Covariance Type:            nonrobust                                         \n",
      "==================================================================================\n",
      "                     coef    std err          t      P>|t|      [0.025      0.975]\n",
      "----------------------------------------------------------------------------------\n",
      "Intercept        102.3241      0.899    113.783      0.000     100.560     104.088\n",
      "treatment         -0.6966      1.276     -0.546      0.585      -3.198       1.805\n",
      "time               9.8792      1.272      7.768      0.000       7.385      12.373\n",
      "treatment:time    15.0951      1.804      8.368      0.000      11.557      18.633\n",
      "==============================================================================\n",
      "Omnibus:                        0.080   Durbin-Watson:                   2.008\n",
      "Prob(Omnibus):                  0.961   Jarque-Bera (JB):                0.110\n",
      "Skew:                          -0.013   Prob(JB):                        0.946\n",
      "Kurtosis:                       2.974   Cond. No.                         6.84\n",
      "==============================================================================\n",
      "\n",
      "Notes:\n",
      "[1] Standard Errors assume that the covariance matrix of the errors is correctly specified.\n"
     ]
    }
   ],
   "source": [
    "# ==========================================\n",
    "# Robustness Check using Regression         \n",
    "# ==========================================\n",
    "#%%\n",
    "import statsmodels.api as sm\n",
    "import statsmodels.formula.api as smf\n",
    "\n",
    "# Create a time indicator (0 = pre, 1 = post)\n",
    "df_long = pd.melt(df, id_vars=[\"customer_id\", \"treatment\"], value_vars=[\"pre_spending\", \"post_spending\"],\n",
    "                  var_name=\"time\", value_name=\"spending\")\n",
    "df_long[\"time\"] = df_long[\"time\"].map({\"pre_spending\": 0, \"post_spending\": 1})\n",
    "\n",
    "# Run Difference-in-Differences regression\n",
    "model = smf.ols(\"spending ~ treatment * time\", data=df_long).fit()\n",
    "print(model.summary())\n",
    "# - treatment: -0.6966, pval: 0.585\n",
    "# - time: 9.8792, pval: 0.000\n",
    "# - treatment:time: 15.0951, 0.000\n",
    "#%%"
   ]
  }
 ],
 "metadata": {
  "kernelspec": {
   "display_name": "econ_env",
   "language": "python",
   "name": "python3"
  },
  "language_info": {
   "codemirror_mode": {
    "name": "ipython",
    "version": 3
   },
   "file_extension": ".py",
   "mimetype": "text/x-python",
   "name": "python",
   "nbconvert_exporter": "python",
   "pygments_lexer": "ipython3",
   "version": "3.11.3"
  }
 },
 "nbformat": 4,
 "nbformat_minor": 2
}
