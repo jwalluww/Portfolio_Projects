{
 "cells": [
  {
   "cell_type": "markdown",
   "metadata": {},
   "source": [
    "# Customer Lifetime Value Model using PYMC\n",
    "- Justin Wall"
   ]
  },
  {
   "cell_type": "markdown",
   "metadata": {},
   "source": [
    "## Goals\n",
    "Build Customer Lifetime Value model\n",
    "- Distinguish active customers from inactive customers\n",
    "- Generate transaction forecasts for individual customers\n",
    "- Predict the purchase volume of the entire customer base\n",
    "\n",
    "Tools\n",
    "- PYMC for probabilistic programming\n",
    "- Lifetimes for the dataset, but it's not a maintained library so we will skip it for the actual implementation"
   ]
  },
  {
   "cell_type": "markdown",
   "metadata": {},
   "source": [
    "<br>"
   ]
  },
  {
   "cell_type": "markdown",
   "metadata": {},
   "source": [
    "***"
   ]
  },
  {
   "cell_type": "markdown",
   "metadata": {},
   "source": [
    "<br>"
   ]
  },
  {
   "cell_type": "markdown",
   "metadata": {},
   "source": [
    "## Import Data & Libraries"
   ]
  },
  {
   "cell_type": "code",
   "execution_count": 1,
   "metadata": {},
   "outputs": [],
   "source": [
    "import pandas as pd \n",
    "import numpy as np \n",
    "\n",
    "import matplotlib.pyplot as plt \n",
    "import seaborn as sns\n",
    "import arviz as az\n",
    "\n",
    "import pymc as pm\n",
    "import pytensor.tensor as pt\n",
    "from lifetimes import BetaGeoFitter\n",
    "from lifetimes.datasets import load_cdnow_summary\n",
    "\n",
    "from pymc_marketing import clv"
   ]
  },
  {
   "cell_type": "code",
   "execution_count": 2,
   "metadata": {},
   "outputs": [
    {
     "name": "stdout",
     "output_type": "stream",
     "text": [
      "<class 'pandas.core.frame.DataFrame'>\n",
      "Index: 2357 entries, 1 to 2357\n",
      "Data columns (total 3 columns):\n",
      " #   Column     Non-Null Count  Dtype  \n",
      "---  ------     --------------  -----  \n",
      " 0   frequency  2357 non-null   int64  \n",
      " 1   recency    2357 non-null   float64\n",
      " 2   T          2357 non-null   float64\n",
      "dtypes: float64(2), int64(1)\n",
      "memory usage: 73.7 KB\n"
     ]
    }
   ],
   "source": [
    "df = load_cdnow_summary(index_col=[0])\n",
    "df.info()"
   ]
  },
  {
   "cell_type": "code",
   "execution_count": 3,
   "metadata": {},
   "outputs": [
    {
     "data": {
      "text/html": [
       "<div>\n",
       "<style scoped>\n",
       "    .dataframe tbody tr th:only-of-type {\n",
       "        vertical-align: middle;\n",
       "    }\n",
       "\n",
       "    .dataframe tbody tr th {\n",
       "        vertical-align: top;\n",
       "    }\n",
       "\n",
       "    .dataframe thead th {\n",
       "        text-align: right;\n",
       "    }\n",
       "</style>\n",
       "<table border=\"1\" class=\"dataframe\">\n",
       "  <thead>\n",
       "    <tr style=\"text-align: right;\">\n",
       "      <th></th>\n",
       "      <th>frequency</th>\n",
       "      <th>recency</th>\n",
       "      <th>T</th>\n",
       "    </tr>\n",
       "    <tr>\n",
       "      <th>ID</th>\n",
       "      <th></th>\n",
       "      <th></th>\n",
       "      <th></th>\n",
       "    </tr>\n",
       "  </thead>\n",
       "  <tbody>\n",
       "    <tr>\n",
       "      <th>1</th>\n",
       "      <td>2</td>\n",
       "      <td>30.43</td>\n",
       "      <td>38.86</td>\n",
       "    </tr>\n",
       "    <tr>\n",
       "      <th>2</th>\n",
       "      <td>1</td>\n",
       "      <td>1.71</td>\n",
       "      <td>38.86</td>\n",
       "    </tr>\n",
       "    <tr>\n",
       "      <th>3</th>\n",
       "      <td>0</td>\n",
       "      <td>0.00</td>\n",
       "      <td>38.86</td>\n",
       "    </tr>\n",
       "    <tr>\n",
       "      <th>4</th>\n",
       "      <td>0</td>\n",
       "      <td>0.00</td>\n",
       "      <td>38.86</td>\n",
       "    </tr>\n",
       "    <tr>\n",
       "      <th>5</th>\n",
       "      <td>0</td>\n",
       "      <td>0.00</td>\n",
       "      <td>38.86</td>\n",
       "    </tr>\n",
       "  </tbody>\n",
       "</table>\n",
       "</div>"
      ],
      "text/plain": [
       "    frequency  recency      T\n",
       "ID                           \n",
       "1           2    30.43  38.86\n",
       "2           1     1.71  38.86\n",
       "3           0     0.00  38.86\n",
       "4           0     0.00  38.86\n",
       "5           0     0.00  38.86"
      ]
     },
     "execution_count": 3,
     "metadata": {},
     "output_type": "execute_result"
    }
   ],
   "source": [
    "df.head()"
   ]
  },
  {
   "cell_type": "markdown",
   "metadata": {},
   "source": [
    "<br>"
   ]
  },
  {
   "cell_type": "markdown",
   "metadata": {},
   "source": [
    "***"
   ]
  },
  {
   "cell_type": "markdown",
   "metadata": {},
   "source": [
    "<br>"
   ]
  },
  {
   "cell_type": "markdown",
   "metadata": {},
   "source": [
    "## Exploratory Data Analysis"
   ]
  },
  {
   "cell_type": "code",
   "execution_count": 4,
   "metadata": {},
   "outputs": [
    {
     "data": {
      "text/plain": [
       "frequency\n",
       "0     1411\n",
       "1      439\n",
       "2      214\n",
       "3      100\n",
       "4       62\n",
       "5       38\n",
       "6       29\n",
       "7       23\n",
       "8        7\n",
       "10       5\n",
       "Name: count, dtype: int64"
      ]
     },
     "execution_count": 4,
     "metadata": {},
     "output_type": "execute_result"
    }
   ],
   "source": [
    "# Count of time periods the customer has a purchase in\n",
    "df['frequency'].value_counts(dropna=False).head(10)"
   ]
  },
  {
   "cell_type": "code",
   "execution_count": 5,
   "metadata": {},
   "outputs": [
    {
     "data": {
      "text/plain": [
       "recency\n",
       "0.00     1411\n",
       "1.57       10\n",
       "25.86       9\n",
       "2.14        9\n",
       "20.86       9\n",
       "27.71       9\n",
       "21.14       9\n",
       "7.57        8\n",
       "24.43       8\n",
       "2.00        8\n",
       "Name: count, dtype: int64"
      ]
     },
     "execution_count": 5,
     "metadata": {},
     "output_type": "execute_result"
    }
   ],
   "source": [
    "# Duration between first and last purchase\n",
    "df['recency'].value_counts(dropna=False).head(10)"
   ]
  },
  {
   "cell_type": "code",
   "execution_count": 6,
   "metadata": {},
   "outputs": [
    {
     "data": {
      "text/plain": [
       "T\n",
       "33.71    43\n",
       "29.86    40\n",
       "31.14    37\n",
       "32.14    36\n",
       "34.14    36\n",
       "30.86    36\n",
       "34.00    36\n",
       "36.14    35\n",
       "32.29    35\n",
       "32.00    34\n",
       "Name: count, dtype: int64"
      ]
     },
     "execution_count": 6,
     "metadata": {},
     "output_type": "execute_result"
    }
   ],
   "source": [
    "# Duration between first purchase and now\n",
    "df['T'].value_counts(dropna=False).head(10)"
   ]
  },
  {
   "cell_type": "markdown",
   "metadata": {},
   "source": [
    "<br>"
   ]
  },
  {
   "cell_type": "markdown",
   "metadata": {},
   "source": [
    "***"
   ]
  },
  {
   "cell_type": "markdown",
   "metadata": {},
   "source": [
    "<br>"
   ]
  },
  {
   "cell_type": "markdown",
   "metadata": {},
   "source": [
    "## CLV Modeling using PYMC-Marketing"
   ]
  },
  {
   "cell_type": "markdown",
   "metadata": {},
   "source": [
    "### BG/NBD Model for predicting the count of future transactions\n",
    "Beta Goemetric Negative Binomial Distribution shows transactions over time and tells when customers become inactive. All we need here is recency and frequency during a time period as a customer. Customers will then purchase at a random interval during the time range and have a certain probability of becoming inactive after that."
   ]
  },
  {
   "cell_type": "code",
   "execution_count": null,
   "metadata": {},
   "outputs": [],
   "source": []
  },
  {
   "cell_type": "code",
   "execution_count": null,
   "metadata": {},
   "outputs": [],
   "source": []
  },
  {
   "cell_type": "code",
   "execution_count": null,
   "metadata": {},
   "outputs": [],
   "source": []
  },
  {
   "cell_type": "markdown",
   "metadata": {},
   "source": [
    "<br>"
   ]
  },
  {
   "cell_type": "markdown",
   "metadata": {},
   "source": [
    "***"
   ]
  },
  {
   "cell_type": "markdown",
   "metadata": {},
   "source": [
    "<br>"
   ]
  },
  {
   "cell_type": "markdown",
   "metadata": {},
   "source": [
    "## CLV Modeling from scratch"
   ]
  },
  {
   "cell_type": "markdown",
   "metadata": {},
   "source": [
    "### BG/NBD Model for predicting the count of future transactions\n",
    "Beta Goemetric Negative Binomial Distribution shows transactions over time and tells when customers become inactive. All we need here is recency and frequency during a time period as a customer. Customers will then purchase at a random interval during the time range and have a certain probability of becoming inactive after that."
   ]
  },
  {
   "cell_type": "code",
   "execution_count": 33,
   "metadata": {},
   "outputs": [],
   "source": [
    "# Get some variables together here\n",
    "n = df.shape[0] # number of customers\n",
    "x = df['frequency'].values # number of repeat purchases\n",
    "t_x = df['recency'].values # duration between first and last purchase\n",
    "T = df['T'].values # duration between first purchase and now\n",
    "int_vec = np.vectorize(int) # vectorize the int function\n",
    "x_zero = int_vec(x>0) # indicator for whether the customer has purchased more than once"
   ]
  },
  {
   "cell_type": "code",
   "execution_count": 34,
   "metadata": {},
   "outputs": [],
   "source": [
    "# It's always difficult to start at the top of the PYMC model, so I have numbers below to tell you where to start to best understand this model.\n",
    "with pm.Model() as model_full:\n",
    "\n",
    "    # Hyperpriors for the Gamma distribution parameters - lambda's prior\n",
    "    a = pm.HalfNormal(name=\"a\", sigma=10)\n",
    "    b = pm.HalfNormal(name=\"b\", sigma=10)\n",
    "    # 'a' and 'b' are the hyperparameters for the Beta distribution of 'p'.\n",
    "    # The HalfNormal distribution ensure these values are non-negative, with a standard deviation of 10.\n",
    "\n",
    "    # Hyperpriors for the Beta distribution parameters (p's prior)\n",
    "    alpha = pm.HalfNormal(name=\"alpha\", sigma=10)\n",
    "    r = pm.HalfNormal(name=\"r\", sigma=10)\n",
    "    # 'alpha' and 'r' are the hyperparameters for the Gamma distribution of 'lambda'.\n",
    "    # Again, the HalfNormal distribution ensure these values are non-negative, with a standard deviation of 10.\n",
    "\n",
    "    # Define customer-level latent variables\n",
    "    lam = pm.Gamma(name=\"lam\", alpha=r, beta=alpha, shape=len(df))\n",
    "    # 'lam' (lambda) represents the purchase rate for each customer.\n",
    "    # Modeled as a Gamma distribution with hyperparameters 'r' and 'alpha'.\n",
    "    # 'shape=len(df)' ensures that we have a separate lambda for each customer.\n",
    "\n",
    "    p = pm.Beta(name=\"p\", alpha=a, beta=b, shape=len(df))\n",
    "    # 'p' represents the dropout probability for each customer.\n",
    "    # Modeled as a Beta distribution with hyperparametesr 'a' and 'b'.\n",
    "    # 'shape=len(df)' ensures a separate dropout probability for each customer.\n",
    "\n",
    "    # Define the custom log-likelihood function\n",
    "    def logp(x, t_x, T, x_zero):\n",
    "        # x: Number of repeat transactions per customer\n",
    "        # t_x: Recency of the last purchase\n",
    "        # T: Duration of observation for each customer\n",
    "        # x_zero: Indicator for customers with no repeat purchases (x == 0)\n",
    "\n",
    "        # Term A: Contribution to likelihood from observed transactions\n",
    "        log_term_a = x * pt.log(1 - p) + x * pt.log(lam) - t_x * lam\n",
    "        # `log_term_a` calculates the log-probability of observed purchases.\n",
    "        # - `pt.log(1 - p)`: Log of the probability the customer remains active after each purchase.\n",
    "        # - `pt.log(lam)`: Log of the purchase rate.\n",
    "        # - `-t_x * lam`: Accounts for the time elapsed since the last purchase.\n",
    "\n",
    "        # Term B: Contribution from survival/dropout\n",
    "        term_b_1 = -lam * (T - t_x)\n",
    "        term_b_2 = pt.log(p) - pt.log(1 - p)\n",
    "        # `term_b_1`: Accounts for the probability of no purchases between `t_x` and `T`.\n",
    "        # `term_b_2`: Log-odds of dropout.\n",
    "\n",
    "        log_term_b = pm.math.switch(\n",
    "            x_zero, pm.math.logaddexp(term_b_1, term_b_2), term_b_1\n",
    "        )\n",
    "        # `log_term_b`: Handles two cases:\n",
    "        # - If `x_zero` is True (no repeat purchases), combines dropout and survival likelihoods.\n",
    "        # - Otherwise, only considers survival likelihood.\n",
    "\n",
    "        return pt.sum(log_term_a) + pt.sum(log_term_b)\n",
    "        # Summing the log-likelihood terms across all customers.\n",
    "\n",
    "    # Define the likelihood function\n",
    "    likelihood = pm.Potential(\n",
    "        name=\"likelihood\",\n",
    "        var=logp(x=x, t_x=t_x, T=T, x_zero=x_zero),\n",
    "    )\n",
    "    # `pm.Potential` allows defining a custom likelihood function.\n",
    "    # `logp` calculates the log-likelihood for the observed data.\n"
   ]
  },
  {
   "cell_type": "code",
   "execution_count": null,
   "metadata": {},
   "outputs": [],
   "source": [
    "# Visualize the model as graph to understand the relationships between variables\n",
    "pm.model_to_graphviz(model=model_full)"
   ]
  },
  {
   "cell_type": "code",
   "execution_count": null,
   "metadata": {},
   "outputs": [],
   "source": [
    "# This model should align with what would be obtained from the `lifetimes` package.\n",
    "with model_full:\n",
    "    trace_full = pm.sample(\n",
    "        tune=2000,\n",
    "        draws=4000,\n",
    "        chains=4,\n",
    "        target_accept=0.95,\n",
    "        # nuts_sampler=\"numpyro\",\n",
    "    )"
   ]
  },
  {
   "cell_type": "code",
   "execution_count": null,
   "metadata": {},
   "outputs": [],
   "source": [
    "axes = az.plot_trace(\n",
    "    data=trace_full,\n",
    "    var_names=[\"a\", \"b\", \"alpha\", \"r\"],\n",
    "    lines=[\n",
    "        (k, {}, [v.to_numpy()])\n",
    "        for k, v in bgf.summary[\n",
    "            [\"coef\", \"lower 95% bound\", \"upper 95% bound\"]\n",
    "        ].T.items()\n",
    "    ],\n",
    "    compact=True,\n",
    "    backend_kwargs={\"figsize\": (12, 9), \"layout\": \"constrained\"},\n",
    ")\n",
    "fig = axes[0][0].get_figure()\n",
    "fig.suptitle(\"Full BG/NBD Model Trace\", fontsize=16, fontweight=\"bold\");"
   ]
  },
  {
   "cell_type": "markdown",
   "metadata": {},
   "source": [
    "<br>"
   ]
  },
  {
   "cell_type": "markdown",
   "metadata": {},
   "source": [
    "***"
   ]
  },
  {
   "cell_type": "markdown",
   "metadata": {},
   "source": [
    "<br>"
   ]
  },
  {
   "cell_type": "markdown",
   "metadata": {},
   "source": [
    "## Sources\n",
    "PYMC from scratch\n",
    "- https://juanitorduz.github.io/bg_nbd_pymc/\n",
    "    - PYMC: Dr. Juan Camilo Orduz, full explanation of CLV probabilistic modeling using PYMC\n",
    "- https://towardsdatascience.com/measuring-customers-value-using-python-lifetimes-d8b19a04e9c1\n",
    "    - Great explanation of BG/NBD modeling, but uses lifeitmes to train. Then nice explanation of testing the model.\n",
    "PYMC-Marketing\n",
    "- https://towardsdatascience.com/pymc-marketing-the-key-to-advanced-clv-customer-lifetime-value-forecasting-bc0730973c0a\n",
    "    - blah\n",
    "- https://medium.com/@brechterlaurin/a-bayesian-approach-to-customer-lifetime-valuation-cd0cde6ee105\n",
    "    - blah\n",
    "- https://blog.devgenius.io/estimating-customer-lifetime-value-with-buy-till-you-die-modelling-python-pymc-marketing-85bc64fce8a6\n",
    "    - blah"
   ]
  },
  {
   "cell_type": "markdown",
   "metadata": {},
   "source": [
    "# "
   ]
  }
 ],
 "metadata": {
  "kernelspec": {
   "display_name": "pymc_env",
   "language": "python",
   "name": "python3"
  },
  "language_info": {
   "codemirror_mode": {
    "name": "ipython",
    "version": 3
   },
   "file_extension": ".py",
   "mimetype": "text/x-python",
   "name": "python",
   "nbconvert_exporter": "python",
   "pygments_lexer": "ipython3",
   "version": "3.11.9"
  }
 },
 "nbformat": 4,
 "nbformat_minor": 2
}
